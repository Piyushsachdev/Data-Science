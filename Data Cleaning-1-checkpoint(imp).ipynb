{
 "cells": [
  {
   "cell_type": "markdown",
   "id": "77ab661c",
   "metadata": {},
   "source": [
    "# Extraction/calling csv file into python tool"
   ]
  },
  {
   "cell_type": "code",
   "execution_count": 2,
   "id": "226a7a3f",
   "metadata": {},
   "outputs": [
    {
     "name": "stdout",
     "output_type": "stream",
     "text": [
      "     LungCap   Age  Height Smoke  Gender Caesarean\n",
      "0      6.475   6.0    62.1    no    male        no\n",
      "1     10.125  18.0    74.7   yes  female        no\n",
      "2      9.550  16.0    69.7    no  female       yes\n",
      "3     11.125  14.0    71.0    no    male        no\n",
      "4      4.800   5.0    56.9    no    male        no\n",
      "..       ...   ...     ...   ...     ...       ...\n",
      "720    5.725   9.0    56.0    no  female        no\n",
      "721    9.050  18.0    72.0   yes    male       yes\n",
      "722    3.850  11.0    60.5   yes  female        no\n",
      "723    9.825  15.0    64.9    no  female        no\n",
      "724    7.100  10.0    67.7    no    male        no\n",
      "\n",
      "[725 rows x 6 columns]\n"
     ]
    }
   ],
   "source": [
    "import pandas as pd\n",
    "import warnings\n",
    "warnings.filterwarnings(\"ignore\")\n",
    "dataFrame = pd.read_csv(r'C:\\Users\\drsac\\OneDrive\\Desktop\\adwerk\\LungCap.csv')\n",
    "print(dataFrame)"
   ]
  },
  {
   "cell_type": "code",
   "execution_count": 3,
   "id": "964bb1f0-a4b4-42e1-8c0e-a13ee9363f15",
   "metadata": {},
   "outputs": [
    {
     "data": {
      "text/plain": [
       "725"
      ]
     },
     "execution_count": 3,
     "metadata": {},
     "output_type": "execute_result"
    }
   ],
   "source": [
    "len(dataFrame)"
   ]
  },
  {
   "cell_type": "code",
   "execution_count": 4,
   "id": "eccd5f38",
   "metadata": {},
   "outputs": [
    {
     "data": {
      "text/plain": [
       "(725, 6)"
      ]
     },
     "execution_count": 4,
     "metadata": {},
     "output_type": "execute_result"
    }
   ],
   "source": [
    "dataFrame.shape"
   ]
  },
  {
   "cell_type": "code",
   "execution_count": 5,
   "id": "cfad8f61-2f76-456b-899d-7bdcc6f4db6b",
   "metadata": {},
   "outputs": [
    {
     "name": "stdout",
     "output_type": "stream",
     "text": [
      "Average Height: 64.84\n"
     ]
    }
   ],
   "source": [
    "average_height = dataFrame['Height'].mean()\n",
    "print(\"Average Height:\", round(average_height, 2)) "
   ]
  },
  {
   "cell_type": "code",
   "execution_count": 6,
   "id": "126ba876-7eca-4c0d-901b-81a389f4342d",
   "metadata": {},
   "outputs": [
    {
     "name": "stdout",
     "output_type": "stream",
     "text": [
      "Median Age is: 13.0\n"
     ]
    }
   ],
   "source": [
    "median_Age = dataFrame['Age'].median()\n",
    "\n",
    "print(\"Median Age is:\", round(median_Age, 2))"
   ]
  },
  {
   "cell_type": "code",
   "execution_count": 7,
   "id": "f11e7243-d3aa-453b-92ef-274c55af2f7b",
   "metadata": {},
   "outputs": [
    {
     "name": "stdout",
     "output_type": "stream",
     "text": [
      "Most frequent Gender is: male\n",
      "Most frequent Gender is: male\n"
     ]
    }
   ],
   "source": [
    "mode_Gender = dataFrame['Gender'].mode().iloc[0] # what is iloc[0]? does it see the mode from 0th row?\n",
    "\n",
    "mode_Gender = dataFrame['Gender'].mode().iloc[0] \n",
    "print(\"Most frequent Gender is:\", mode_Gender)\n",
    "print(\"Most frequent Gender is:\", mode_Gender)"
   ]
  },
  {
   "cell_type": "code",
   "execution_count": 8,
   "id": "07bab17f-0762-45af-8071-df00e09924d2",
   "metadata": {},
   "outputs": [
    {
     "name": "stdout",
     "output_type": "stream",
     "text": [
      "Gender\n",
      "male      366\n",
      "female    357\n",
      "Name: count, dtype: int64\n"
     ]
    }
   ],
   "source": [
    "gender_counts = dataFrame['Gender'].value_counts()\n",
    "print(gender_counts)"
   ]
  },
  {
   "cell_type": "code",
   "execution_count": 9,
   "id": "c0366191-842f-47a8-95d5-bb551af6e641",
   "metadata": {},
   "outputs": [
    {
     "data": {
      "text/html": [
       "<div>\n",
       "<style scoped>\n",
       "    .dataframe tbody tr th:only-of-type {\n",
       "        vertical-align: middle;\n",
       "    }\n",
       "\n",
       "    .dataframe tbody tr th {\n",
       "        vertical-align: top;\n",
       "    }\n",
       "\n",
       "    .dataframe thead th {\n",
       "        text-align: right;\n",
       "    }\n",
       "</style>\n",
       "<table border=\"1\" class=\"dataframe\">\n",
       "  <thead>\n",
       "    <tr style=\"text-align: right;\">\n",
       "      <th></th>\n",
       "      <th>LungCap</th>\n",
       "      <th>Age</th>\n",
       "      <th>Height</th>\n",
       "      <th>Smoke</th>\n",
       "      <th>Gender</th>\n",
       "      <th>Caesarean</th>\n",
       "    </tr>\n",
       "  </thead>\n",
       "  <tbody>\n",
       "    <tr>\n",
       "      <th>0</th>\n",
       "      <td>6.475</td>\n",
       "      <td>6.0</td>\n",
       "      <td>62.1</td>\n",
       "      <td>no</td>\n",
       "      <td>male</td>\n",
       "      <td>no</td>\n",
       "    </tr>\n",
       "    <tr>\n",
       "      <th>1</th>\n",
       "      <td>10.125</td>\n",
       "      <td>18.0</td>\n",
       "      <td>74.7</td>\n",
       "      <td>yes</td>\n",
       "      <td>female</td>\n",
       "      <td>no</td>\n",
       "    </tr>\n",
       "    <tr>\n",
       "      <th>2</th>\n",
       "      <td>9.550</td>\n",
       "      <td>16.0</td>\n",
       "      <td>69.7</td>\n",
       "      <td>no</td>\n",
       "      <td>female</td>\n",
       "      <td>yes</td>\n",
       "    </tr>\n",
       "    <tr>\n",
       "      <th>3</th>\n",
       "      <td>11.125</td>\n",
       "      <td>14.0</td>\n",
       "      <td>71.0</td>\n",
       "      <td>no</td>\n",
       "      <td>male</td>\n",
       "      <td>no</td>\n",
       "    </tr>\n",
       "    <tr>\n",
       "      <th>4</th>\n",
       "      <td>4.800</td>\n",
       "      <td>5.0</td>\n",
       "      <td>56.9</td>\n",
       "      <td>no</td>\n",
       "      <td>male</td>\n",
       "      <td>no</td>\n",
       "    </tr>\n",
       "    <tr>\n",
       "      <th>...</th>\n",
       "      <td>...</td>\n",
       "      <td>...</td>\n",
       "      <td>...</td>\n",
       "      <td>...</td>\n",
       "      <td>...</td>\n",
       "      <td>...</td>\n",
       "    </tr>\n",
       "    <tr>\n",
       "      <th>720</th>\n",
       "      <td>5.725</td>\n",
       "      <td>9.0</td>\n",
       "      <td>56.0</td>\n",
       "      <td>no</td>\n",
       "      <td>female</td>\n",
       "      <td>no</td>\n",
       "    </tr>\n",
       "    <tr>\n",
       "      <th>721</th>\n",
       "      <td>9.050</td>\n",
       "      <td>18.0</td>\n",
       "      <td>72.0</td>\n",
       "      <td>yes</td>\n",
       "      <td>male</td>\n",
       "      <td>yes</td>\n",
       "    </tr>\n",
       "    <tr>\n",
       "      <th>722</th>\n",
       "      <td>3.850</td>\n",
       "      <td>11.0</td>\n",
       "      <td>60.5</td>\n",
       "      <td>yes</td>\n",
       "      <td>female</td>\n",
       "      <td>no</td>\n",
       "    </tr>\n",
       "    <tr>\n",
       "      <th>723</th>\n",
       "      <td>9.825</td>\n",
       "      <td>15.0</td>\n",
       "      <td>64.9</td>\n",
       "      <td>no</td>\n",
       "      <td>female</td>\n",
       "      <td>no</td>\n",
       "    </tr>\n",
       "    <tr>\n",
       "      <th>724</th>\n",
       "      <td>7.100</td>\n",
       "      <td>10.0</td>\n",
       "      <td>67.7</td>\n",
       "      <td>no</td>\n",
       "      <td>male</td>\n",
       "      <td>no</td>\n",
       "    </tr>\n",
       "  </tbody>\n",
       "</table>\n",
       "<p>725 rows × 6 columns</p>\n",
       "</div>"
      ],
      "text/plain": [
       "     LungCap   Age  Height Smoke  Gender Caesarean\n",
       "0      6.475   6.0    62.1    no    male        no\n",
       "1     10.125  18.0    74.7   yes  female        no\n",
       "2      9.550  16.0    69.7    no  female       yes\n",
       "3     11.125  14.0    71.0    no    male        no\n",
       "4      4.800   5.0    56.9    no    male        no\n",
       "..       ...   ...     ...   ...     ...       ...\n",
       "720    5.725   9.0    56.0    no  female        no\n",
       "721    9.050  18.0    72.0   yes    male       yes\n",
       "722    3.850  11.0    60.5   yes  female        no\n",
       "723    9.825  15.0    64.9    no  female        no\n",
       "724    7.100  10.0    67.7    no    male        no\n",
       "\n",
       "[725 rows x 6 columns]"
      ]
     },
     "execution_count": 9,
     "metadata": {},
     "output_type": "execute_result"
    }
   ],
   "source": [
    "dataFrame"
   ]
  },
  {
   "cell_type": "code",
   "execution_count": 10,
   "id": "79953805-baf3-45d2-bb8e-9b333df7ec06",
   "metadata": {},
   "outputs": [
    {
     "name": "stdout",
     "output_type": "stream",
     "text": [
      "Standard deviation of LungCap is  2.667863071117998\n",
      "Variance of LungCap is dataFrame 7.117493366235156\n",
      "Standard deviation of LungCap is 4.0085642580976195\n",
      "Variance of LungCap is dataFrame 16.068587411297717\n"
     ]
    }
   ],
   "source": [
    "print(\"Standard deviation of LungCap is \", dataFrame['LungCap'].std()) \n",
    "print(\"Variance of LungCap is dataFrame\", dataFrame['LungCap'].var())  \n",
    "print(\"Standard deviation of LungCap is\", dataFrame['Age'].std()) \n",
    "print(\"Variance of LungCap is dataFrame\", dataFrame['Age'].var())  "
   ]
  },
  {
   "cell_type": "code",
   "execution_count": 11,
   "id": "0be20b62-3c06-4fa1-844d-fec24b587e30",
   "metadata": {},
   "outputs": [
    {
     "name": "stdout",
     "output_type": "stream",
     "text": [
      "mean of Height by Gender:\n",
      " Gender\n",
      "female    63.770423\n",
      "male      65.844904\n",
      "Name: Height, dtype: float64\n"
     ]
    }
   ],
   "source": [
    "height_var_by_gender = dataFrame.groupby('Gender')['Height'].mean()\n",
    "print(\"mean of Height by Gender:\\n\", height_var_by_gender)"
   ]
  },
  {
   "cell_type": "code",
   "execution_count": 12,
   "id": "8eaa6d3c-9ce2-48d3-a180-d42f2a7e673d",
   "metadata": {},
   "outputs": [
    {
     "name": "stdout",
     "output_type": "stream",
     "text": [
      "Standard Deviation of Height by Gender:\n",
      " Gender\n",
      "female    7.048312\n",
      "male      7.232618\n",
      "Name: Height, dtype: float64\n"
     ]
    }
   ],
   "source": [
    "height_std_by_gender = dataFrame.groupby('Gender')['Height'].std()\n",
    "print(\"Standard Deviation of Height by Gender:\\n\", height_std_by_gender)"
   ]
  },
  {
   "cell_type": "code",
   "execution_count": 13,
   "id": "2dd806bc-67b0-4c24-bb2f-ccaa05e0025d",
   "metadata": {},
   "outputs": [
    {
     "name": "stdout",
     "output_type": "stream",
     "text": [
      "Average of LungCap by Gender:\n",
      " Gender\n",
      "female    7.406146\n",
      "male      8.298489\n",
      "Name: LungCap, dtype: float64\n"
     ]
    }
   ],
   "source": [
    "LungCap_by_gender = dataFrame.groupby('Gender')['LungCap'].mean()\n",
    "print(\"Average of LungCap by Gender:\\n\", LungCap_by_gender)"
   ]
  },
  {
   "cell_type": "code",
   "execution_count": 3,
   "id": "c431ca0a-79ae-4774-aa49-6bcc1ada925f",
   "metadata": {},
   "outputs": [
    {
     "ename": "NameError",
     "evalue": "name 'dataFrame' is not defined",
     "output_type": "error",
     "traceback": [
      "\u001b[1;31m---------------------------------------------------------------------------\u001b[0m",
      "\u001b[1;31mNameError\u001b[0m                                 Traceback (most recent call last)",
      "Cell \u001b[1;32mIn[3], line 1\u001b[0m\n\u001b[1;32m----> 1\u001b[0m grouped \u001b[38;5;241m=\u001b[39m \u001b[43mdataFrame\u001b[49m\u001b[38;5;241m.\u001b[39mgroupby(\u001b[38;5;124m'\u001b[39m\u001b[38;5;124mGender\u001b[39m\u001b[38;5;124m'\u001b[39m)\n\u001b[0;32m      2\u001b[0m \u001b[38;5;28mprint\u001b[39m(grouped\u001b[38;5;241m.\u001b[39mget_group(\u001b[38;5;124m'\u001b[39m\u001b[38;5;124mfemale\u001b[39m\u001b[38;5;124m'\u001b[39m))\n",
      "\u001b[1;31mNameError\u001b[0m: name 'dataFrame' is not defined"
     ]
    }
   ],
   "source": [
    "grouped = dataFrame.groupby('Gender')\n",
    "print(grouped.get_group('female'))"
   ]
  },
  {
   "cell_type": "code",
   "execution_count": null,
   "id": "da5f443a-cce2-463e-ad4a-66ad2ddb242a",
   "metadata": {},
   "outputs": [],
   "source": [
    "smoke_summary = dataFrame.groupby(['Gender', 'Smoke']).size()\n",
    "print(\"Smoking distribution by gender:\\n\", smoke_summary) #diffenence between size() and value_count()"
   ]
  },
  {
   "cell_type": "code",
   "execution_count": null,
   "id": "8df9a532-8304-4d2f-b1db-48804124ca27",
   "metadata": {},
   "outputs": [],
   "source": [
    "smoke_percent = dataFrame.groupby(['Gender', 'Smoke']).size().groupby(level=0).apply(lambda x: 100 * x / x.sum())\n",
    "print(\"Smoking % by gender:\\n\", smoke_percent) #here level=0 means 0th sereies like Gender and 1st series like Smoke\n",
    "# and this X of lambda is also dicided by level"
   ]
  },
  {
   "cell_type": "code",
   "execution_count": null,
   "id": "6794ad6d",
   "metadata": {},
   "outputs": [],
   "source": [
    "dataFrame.info()"
   ]
  },
  {
   "cell_type": "code",
   "execution_count": null,
   "id": "a91d21ff-0b90-4668-97bc-7feaa72ad21d",
   "metadata": {},
   "outputs": [],
   "source": [
    "dataFrame.describe()"
   ]
  },
  {
   "cell_type": "markdown",
   "id": "27d04844",
   "metadata": {},
   "source": [
    "## Example of finding missing values:"
   ]
  },
  {
   "cell_type": "code",
   "execution_count": null,
   "id": "04d2e6b0-5ba7-4075-a36d-9622bb059bed",
   "metadata": {},
   "outputs": [],
   "source": [
    "dataFrame.isnull()"
   ]
  },
  {
   "cell_type": "code",
   "execution_count": null,
   "id": "94b14a34",
   "metadata": {},
   "outputs": [],
   "source": [
    "dataFrame.isnull().sum()"
   ]
  },
  {
   "cell_type": "markdown",
   "id": "b52db31f",
   "metadata": {},
   "source": [
    "## Removing Missing Values"
   ]
  },
  {
   "cell_type": "code",
   "execution_count": null,
   "id": "cdd4d2eb-1809-44c1-b80c-b10f16499a2e",
   "metadata": {},
   "outputs": [],
   "source": [
    "dataFrame.tail()"
   ]
  },
  {
   "cell_type": "code",
   "execution_count": null,
   "id": "d5785081-a336-4996-8970-a67fe4b959e3",
   "metadata": {},
   "outputs": [],
   "source": [
    "dataFrame.head()"
   ]
  },
  {
   "cell_type": "code",
   "execution_count": null,
   "id": "dd8a98b9",
   "metadata": {},
   "outputs": [],
   "source": [
    "dataFrame.describe()"
   ]
  },
  {
   "cell_type": "code",
   "execution_count": null,
   "id": "84bc129c",
   "metadata": {},
   "outputs": [],
   "source": [
    "dataFrame['LungCap'].fillna(int(dataFrame['LungCap'].mean()), inplace=True)"
   ]
  },
  {
   "cell_type": "code",
   "execution_count": null,
   "id": "d1686d65",
   "metadata": {},
   "outputs": [],
   "source": [
    "dataFrame.isnull().sum()"
   ]
  },
  {
   "cell_type": "code",
   "execution_count": null,
   "id": "8cf89565",
   "metadata": {},
   "outputs": [],
   "source": [
    "dataFrame['Age'].fillna(int(dataFrame['Age'].mean()), inplace=True)"
   ]
  },
  {
   "cell_type": "code",
   "execution_count": null,
   "id": "9f50c688",
   "metadata": {
    "scrolled": true
   },
   "outputs": [],
   "source": [
    "dataFrame.isnull().sum()"
   ]
  },
  {
   "cell_type": "code",
   "execution_count": null,
   "id": "b0acedd2",
   "metadata": {},
   "outputs": [],
   "source": [
    "dataFrame['Height'].fillna(int(dataFrame['Height'].mean()), inplace=True)"
   ]
  },
  {
   "cell_type": "code",
   "execution_count": null,
   "id": "df0791ca",
   "metadata": {},
   "outputs": [],
   "source": [
    "dataFrame.isnull().sum()"
   ]
  },
  {
   "cell_type": "code",
   "execution_count": null,
   "id": "9e7165a3",
   "metadata": {},
   "outputs": [],
   "source": [
    "dataFrame['Gender'] = dataFrame['Gender'].map({'male': 0,'female': 1, })"
   ]
  },
  {
   "cell_type": "code",
   "execution_count": null,
   "id": "0d74b8e5",
   "metadata": {},
   "outputs": [],
   "source": [
    "dataFrame.head()"
   ]
  },
  {
   "cell_type": "code",
   "execution_count": null,
   "id": "c2808208",
   "metadata": {},
   "outputs": [],
   "source": [
    "dataFrame['Caesarean'] = dataFrame['Caesarean'].map({'no': 0,'yes': 1, })"
   ]
  },
  {
   "cell_type": "code",
   "execution_count": null,
   "id": "af564f4a",
   "metadata": {},
   "outputs": [],
   "source": [
    "dataFrame.head()"
   ]
  },
  {
   "cell_type": "code",
   "execution_count": null,
   "id": "bde5e800",
   "metadata": {},
   "outputs": [],
   "source": [
    "dataFrame['Smoke'] = dataFrame['Smoke'].map({'no': 0,'yes': 1, })"
   ]
  },
  {
   "cell_type": "code",
   "execution_count": null,
   "id": "bf74fca8",
   "metadata": {},
   "outputs": [],
   "source": [
    "dataFrame.head()"
   ]
  },
  {
   "cell_type": "code",
   "execution_count": null,
   "id": "5704838d",
   "metadata": {},
   "outputs": [],
   "source": [
    "dataFrame.describe()"
   ]
  },
  {
   "cell_type": "code",
   "execution_count": null,
   "id": "95f2b12f-5460-4000-9a5a-170d3eae91ed",
   "metadata": {},
   "outputs": [],
   "source": [
    "dataFrame.info()"
   ]
  },
  {
   "cell_type": "code",
   "execution_count": null,
   "id": "712aa2e0-550e-45ea-a58a-7e52aaa5335c",
   "metadata": {},
   "outputs": [],
   "source": [
    "dataFrame.isnull().sum()"
   ]
  },
  {
   "cell_type": "code",
   "execution_count": null,
   "id": "8f46c5dc",
   "metadata": {},
   "outputs": [],
   "source": [
    "dataFrame['Gender'].fillna(int(dataFrame['Gender'].mean()), inplace=True)\n",
    "dataFrame['Caesarean'].fillna(int(dataFrame['Caesarean'].mean()), inplace=True)\n",
    "dataFrame['Smoke'].fillna(int(dataFrame['Smoke'].mean()), inplace=True)"
   ]
  },
  {
   "cell_type": "code",
   "execution_count": null,
   "id": "b0aa1cf8",
   "metadata": {},
   "outputs": [],
   "source": [
    "dataFrame.isnull().sum()"
   ]
  },
  {
   "cell_type": "code",
   "execution_count": null,
   "id": "0a440e98",
   "metadata": {},
   "outputs": [],
   "source": [
    "dataFrame.groupby('Smoke').Gender.value_counts()"
   ]
  },
  {
   "cell_type": "code",
   "execution_count": null,
   "id": "8d151971",
   "metadata": {},
   "outputs": [],
   "source": [
    "dataFrame.groupby('Caesarean').Gender.value_counts()"
   ]
  },
  {
   "cell_type": "code",
   "execution_count": null,
   "id": "18abcb7c",
   "metadata": {},
   "outputs": [],
   "source": [
    "df1 = dataFrame[dataFrame['Age']>12]\n",
    "df1"
   ]
  },
  {
   "cell_type": "code",
   "execution_count": 41,
   "id": "f0a9b682-3dca-4773-8248-359ef69fd076",
   "metadata": {},
   "outputs": [
    {
     "data": {
      "text/html": [
       "<div>\n",
       "<style scoped>\n",
       "    .dataframe tbody tr th:only-of-type {\n",
       "        vertical-align: middle;\n",
       "    }\n",
       "\n",
       "    .dataframe tbody tr th {\n",
       "        vertical-align: top;\n",
       "    }\n",
       "\n",
       "    .dataframe thead th {\n",
       "        text-align: right;\n",
       "    }\n",
       "</style>\n",
       "<table border=\"1\" class=\"dataframe\">\n",
       "  <thead>\n",
       "    <tr style=\"text-align: right;\">\n",
       "      <th></th>\n",
       "      <th>LungCap</th>\n",
       "      <th>Age</th>\n",
       "      <th>Height</th>\n",
       "      <th>Smoke</th>\n",
       "      <th>Gender</th>\n",
       "      <th>Caesarean</th>\n",
       "    </tr>\n",
       "  </thead>\n",
       "  <tbody>\n",
       "    <tr>\n",
       "      <th>1</th>\n",
       "      <td>10.125</td>\n",
       "      <td>18.0</td>\n",
       "      <td>74.7</td>\n",
       "      <td>yes</td>\n",
       "      <td>female</td>\n",
       "      <td>no</td>\n",
       "    </tr>\n",
       "    <tr>\n",
       "      <th>2</th>\n",
       "      <td>9.550</td>\n",
       "      <td>16.0</td>\n",
       "      <td>69.7</td>\n",
       "      <td>no</td>\n",
       "      <td>female</td>\n",
       "      <td>yes</td>\n",
       "    </tr>\n",
       "    <tr>\n",
       "      <th>3</th>\n",
       "      <td>11.125</td>\n",
       "      <td>14.0</td>\n",
       "      <td>71.0</td>\n",
       "      <td>no</td>\n",
       "      <td>male</td>\n",
       "      <td>no</td>\n",
       "    </tr>\n",
       "    <tr>\n",
       "      <th>7</th>\n",
       "      <td>7.325</td>\n",
       "      <td>11.0</td>\n",
       "      <td>70.4</td>\n",
       "      <td>no</td>\n",
       "      <td>male</td>\n",
       "      <td>no</td>\n",
       "    </tr>\n",
       "    <tr>\n",
       "      <th>8</th>\n",
       "      <td>8.875</td>\n",
       "      <td>15.0</td>\n",
       "      <td>70.5</td>\n",
       "      <td>no</td>\n",
       "      <td>male</td>\n",
       "      <td>no</td>\n",
       "    </tr>\n",
       "    <tr>\n",
       "      <th>...</th>\n",
       "      <td>...</td>\n",
       "      <td>...</td>\n",
       "      <td>...</td>\n",
       "      <td>...</td>\n",
       "      <td>...</td>\n",
       "      <td>...</td>\n",
       "    </tr>\n",
       "    <tr>\n",
       "      <th>718</th>\n",
       "      <td>7.175</td>\n",
       "      <td>17.0</td>\n",
       "      <td>68.8</td>\n",
       "      <td>no</td>\n",
       "      <td>male</td>\n",
       "      <td>yes</td>\n",
       "    </tr>\n",
       "    <tr>\n",
       "      <th>719</th>\n",
       "      <td>7.325</td>\n",
       "      <td>9.0</td>\n",
       "      <td>66.3</td>\n",
       "      <td>no</td>\n",
       "      <td>male</td>\n",
       "      <td>no</td>\n",
       "    </tr>\n",
       "    <tr>\n",
       "      <th>721</th>\n",
       "      <td>9.050</td>\n",
       "      <td>18.0</td>\n",
       "      <td>72.0</td>\n",
       "      <td>yes</td>\n",
       "      <td>male</td>\n",
       "      <td>yes</td>\n",
       "    </tr>\n",
       "    <tr>\n",
       "      <th>723</th>\n",
       "      <td>9.825</td>\n",
       "      <td>15.0</td>\n",
       "      <td>64.9</td>\n",
       "      <td>no</td>\n",
       "      <td>female</td>\n",
       "      <td>no</td>\n",
       "    </tr>\n",
       "    <tr>\n",
       "      <th>724</th>\n",
       "      <td>7.100</td>\n",
       "      <td>10.0</td>\n",
       "      <td>67.7</td>\n",
       "      <td>no</td>\n",
       "      <td>male</td>\n",
       "      <td>no</td>\n",
       "    </tr>\n",
       "  </tbody>\n",
       "</table>\n",
       "<p>403 rows × 6 columns</p>\n",
       "</div>"
      ],
      "text/plain": [
       "     LungCap   Age  Height Smoke  Gender Caesarean\n",
       "1     10.125  18.0    74.7   yes  female        no\n",
       "2      9.550  16.0    69.7    no  female       yes\n",
       "3     11.125  14.0    71.0    no    male        no\n",
       "7      7.325  11.0    70.4    no    male        no\n",
       "8      8.875  15.0    70.5    no    male        no\n",
       "..       ...   ...     ...   ...     ...       ...\n",
       "718    7.175  17.0    68.8    no    male       yes\n",
       "719    7.325   9.0    66.3    no    male        no\n",
       "721    9.050  18.0    72.0   yes    male       yes\n",
       "723    9.825  15.0    64.9    no  female        no\n",
       "724    7.100  10.0    67.7    no    male        no\n",
       "\n",
       "[403 rows x 6 columns]"
      ]
     },
     "execution_count": 41,
     "metadata": {},
     "output_type": "execute_result"
    }
   ],
   "source": [
    "df2 = dataFrame[dataFrame['Height']>64]\n",
    "df2"
   ]
  },
  {
   "cell_type": "code",
   "execution_count": null,
   "id": "8dc08f7f-0f3f-4965-9e22-22d3dd307e57",
   "metadata": {},
   "outputs": [],
   "source": [
    "df3 = dataFrame[dataFrame['LungCap']>8]\n",
    "df3"
   ]
  },
  {
   "cell_type": "code",
   "execution_count": 43,
   "id": "9d38bbb8-a692-4bbf-8af9-b59adf0af221",
   "metadata": {},
   "outputs": [
    {
     "data": {
      "text/plain": [
       "403"
      ]
     },
     "execution_count": 43,
     "metadata": {},
     "output_type": "execute_result"
    }
   ],
   "source": [
    "len(df2)"
   ]
  },
  {
   "cell_type": "code",
   "execution_count": null,
   "id": "6258d8b4-b87a-4aa3-8d21-a538693f76a2",
   "metadata": {},
   "outputs": [],
   "source": [
    "len(df3)"
   ]
  },
  {
   "cell_type": "code",
   "execution_count": null,
   "id": "73ef5c96-7750-4c09-8668-dc35cfc4589d",
   "metadata": {},
   "outputs": [],
   "source": [
    "len(df1)"
   ]
  },
  {
   "cell_type": "code",
   "execution_count": null,
   "id": "2872a437",
   "metadata": {},
   "outputs": [],
   "source": [
    "df1.head(5)"
   ]
  },
  {
   "cell_type": "code",
   "execution_count": null,
   "id": "b6bfd513-edd1-4238-b447-663bb16f8945",
   "metadata": {},
   "outputs": [],
   "source": [
    "df1.Gender.value_counts()"
   ]
  },
  {
   "cell_type": "code",
   "execution_count": null,
   "id": "9130027a",
   "metadata": {},
   "outputs": [],
   "source": [
    "df1.groupby('Gender').Smoke.value_counts() #size() and .value_counts()"
   ]
  },
  {
   "cell_type": "code",
   "execution_count": null,
   "id": "3e300ab5",
   "metadata": {},
   "outputs": [],
   "source": []
  }
 ],
 "metadata": {
  "kernelspec": {
   "display_name": "Python [conda env:ANACONDA]",
   "language": "python",
   "name": "conda-env-ANACONDA-py"
  },
  "language_info": {
   "codemirror_mode": {
    "name": "ipython",
    "version": 3
   },
   "file_extension": ".py",
   "mimetype": "text/x-python",
   "name": "python",
   "nbconvert_exporter": "python",
   "pygments_lexer": "ipython3",
   "version": "3.12.3"
  }
 },
 "nbformat": 4,
 "nbformat_minor": 5
}
